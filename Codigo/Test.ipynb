{
 "cells": [
  {
   "cell_type": "code",
   "execution_count": 5,
   "metadata": {},
   "outputs": [],
   "source": [
    "import pandas as pd\n",
    "from sodapy import Socrata\n",
    "import os\n",
    "\n",
    " \n",
    "TOKEN_APP = \"xv66xLFwvXNRjMns6TbebGarR\"\n",
    " \n",
    "client = Socrata(\"www.datos.gov.co\", TOKEN_APP)\n",
    " \n",
    " "
   ]
  },
  {
   "cell_type": "code",
   "execution_count": 6,
   "metadata": {},
   "outputs": [],
   "source": [
    "socrata_data_identifier = \"jbjy-vk9h\"\n",
    " \n",
    "Query = \"\"\"\n",
    "select\n",
    "    id_contrato, nombre_entidad, departamento, modalidad_de_contratacion, valor_del_contrato, fecha_de_firma,proveedor_adjudicado\n",
    "where\n",
    "    nombre_entidad LIKE 'UNIDAD DE GESTION PENSIONAL Y PARAFISCALES - UGPP'\n",
    "limit\n",
    "10000000\n",
    "\"\"\"\n",
    " \n",
    " \n",
    "result = client.get(socrata_data_identifier, query = Query)\n",
    " \n",
    "result_df = pd.DataFrame.from_records(result)"
   ]
  },
  {
   "cell_type": "code",
   "execution_count": 7,
   "metadata": {},
   "outputs": [
    {
     "name": "stdout",
     "output_type": "stream",
     "text": [
      "id_contrato                  object\n",
      "nombre_entidad               object\n",
      "departamento                 object\n",
      "modalidad_de_contratacion    object\n",
      "valor_del_contrato           object\n",
      "fecha_de_firma               object\n",
      "dtype: object\n"
     ]
    }
   ],
   "source": [
    "print(result_df.dtypes)"
   ]
  },
  {
   "cell_type": "code",
   "execution_count": 8,
   "metadata": {},
   "outputs": [],
   "source": [
    "result_df['valor_del_contrato'] = result_df ['valor_del_contrato'].astype(float)\n",
    "result_df['fecha_de_firma'] = pd.to_datetime(result_df['fecha_de_firma'], format='mixed')"
   ]
  },
  {
   "cell_type": "code",
   "execution_count": 9,
   "metadata": {},
   "outputs": [
    {
     "name": "stdout",
     "output_type": "stream",
     "text": [
      "id_contrato                          object\n",
      "nombre_entidad                       object\n",
      "departamento                         object\n",
      "modalidad_de_contratacion            object\n",
      "valor_del_contrato                  float64\n",
      "fecha_de_firma               datetime64[ns]\n",
      "dtype: object\n"
     ]
    }
   ],
   "source": [
    "print(result_df.dtypes)"
   ]
  },
  {
   "cell_type": "code",
   "execution_count": 10,
   "metadata": {},
   "outputs": [
    {
     "data": {
      "text/html": [
       "<div>\n",
       "<style scoped>\n",
       "    .dataframe tbody tr th:only-of-type {\n",
       "        vertical-align: middle;\n",
       "    }\n",
       "\n",
       "    .dataframe tbody tr th {\n",
       "        vertical-align: top;\n",
       "    }\n",
       "\n",
       "    .dataframe thead th {\n",
       "        text-align: right;\n",
       "    }\n",
       "</style>\n",
       "<table border=\"1\" class=\"dataframe\">\n",
       "  <thead>\n",
       "    <tr style=\"text-align: right;\">\n",
       "      <th></th>\n",
       "      <th>id_contrato</th>\n",
       "      <th>nombre_entidad</th>\n",
       "      <th>departamento</th>\n",
       "      <th>modalidad_de_contratacion</th>\n",
       "      <th>valor_del_contrato</th>\n",
       "      <th>fecha_de_firma</th>\n",
       "    </tr>\n",
       "  </thead>\n",
       "  <tbody>\n",
       "    <tr>\n",
       "      <th>0</th>\n",
       "      <td>CO1.PCCNTR.2193149</td>\n",
       "      <td>UNIDAD DE GESTION PENSIONAL Y PARAFISCALES - UGPP</td>\n",
       "      <td>Distrito Capital de Bogotá</td>\n",
       "      <td>Contratación directa</td>\n",
       "      <td>41523626.0</td>\n",
       "      <td>2021-02-01</td>\n",
       "    </tr>\n",
       "    <tr>\n",
       "      <th>1</th>\n",
       "      <td>CO1.PCCNTR.5982280</td>\n",
       "      <td>UNIDAD DE GESTION PENSIONAL Y PARAFISCALES - UGPP</td>\n",
       "      <td>Distrito Capital de Bogotá</td>\n",
       "      <td>Contratación directa</td>\n",
       "      <td>8927010.0</td>\n",
       "      <td>2024-02-21</td>\n",
       "    </tr>\n",
       "    <tr>\n",
       "      <th>2</th>\n",
       "      <td>CO1.PCCNTR.280189</td>\n",
       "      <td>UNIDAD DE GESTION PENSIONAL Y PARAFISCALES - UGPP</td>\n",
       "      <td>Distrito Capital de Bogotá</td>\n",
       "      <td>Contratación directa</td>\n",
       "      <td>8400000.0</td>\n",
       "      <td>2018-01-11</td>\n",
       "    </tr>\n",
       "    <tr>\n",
       "      <th>3</th>\n",
       "      <td>CO1.PCCNTR.4376829</td>\n",
       "      <td>UNIDAD DE GESTION PENSIONAL Y PARAFISCALES - UGPP</td>\n",
       "      <td>Distrito Capital de Bogotá</td>\n",
       "      <td>Contratación directa</td>\n",
       "      <td>23087052.0</td>\n",
       "      <td>2023-01-06</td>\n",
       "    </tr>\n",
       "    <tr>\n",
       "      <th>4</th>\n",
       "      <td>CO1.PCCNTR.277084</td>\n",
       "      <td>UNIDAD DE GESTION PENSIONAL Y PARAFISCALES - UGPP</td>\n",
       "      <td>Distrito Capital de Bogotá</td>\n",
       "      <td>Contratación directa</td>\n",
       "      <td>16480000.0</td>\n",
       "      <td>2018-01-09</td>\n",
       "    </tr>\n",
       "    <tr>\n",
       "      <th>...</th>\n",
       "      <td>...</td>\n",
       "      <td>...</td>\n",
       "      <td>...</td>\n",
       "      <td>...</td>\n",
       "      <td>...</td>\n",
       "      <td>...</td>\n",
       "    </tr>\n",
       "    <tr>\n",
       "      <th>2517</th>\n",
       "      <td>CO1.PCCNTR.2115837</td>\n",
       "      <td>UNIDAD DE GESTION PENSIONAL Y PARAFISCALES - UGPP</td>\n",
       "      <td>Distrito Capital de Bogotá</td>\n",
       "      <td>Contratación directa</td>\n",
       "      <td>335358912.0</td>\n",
       "      <td>2021-01-14</td>\n",
       "    </tr>\n",
       "    <tr>\n",
       "      <th>2518</th>\n",
       "      <td>CO1.PCCNTR.271971</td>\n",
       "      <td>UNIDAD DE GESTION PENSIONAL Y PARAFISCALES - UGPP</td>\n",
       "      <td>Distrito Capital de Bogotá</td>\n",
       "      <td>Contratación directa</td>\n",
       "      <td>9600000.0</td>\n",
       "      <td>2018-01-05</td>\n",
       "    </tr>\n",
       "    <tr>\n",
       "      <th>2519</th>\n",
       "      <td>CO1.PCCNTR.2168350</td>\n",
       "      <td>UNIDAD DE GESTION PENSIONAL Y PARAFISCALES - UGPP</td>\n",
       "      <td>Distrito Capital de Bogotá</td>\n",
       "      <td>Contratación directa</td>\n",
       "      <td>41050116.0</td>\n",
       "      <td>2021-01-25</td>\n",
       "    </tr>\n",
       "    <tr>\n",
       "      <th>2520</th>\n",
       "      <td>CO1.PCCNTR.4622885</td>\n",
       "      <td>UNIDAD DE GESTION PENSIONAL Y PARAFISCALES - UGPP</td>\n",
       "      <td>Distrito Capital de Bogotá</td>\n",
       "      <td>Contratación directa</td>\n",
       "      <td>31800000.0</td>\n",
       "      <td>2023-02-14</td>\n",
       "    </tr>\n",
       "    <tr>\n",
       "      <th>2521</th>\n",
       "      <td>CO1.PCCNTR.566321</td>\n",
       "      <td>UNIDAD DE GESTION PENSIONAL Y PARAFISCALES - UGPP</td>\n",
       "      <td>Distrito Capital de Bogotá</td>\n",
       "      <td>Contratación directa</td>\n",
       "      <td>3605000.0</td>\n",
       "      <td>2018-09-17</td>\n",
       "    </tr>\n",
       "  </tbody>\n",
       "</table>\n",
       "<p>2522 rows × 6 columns</p>\n",
       "</div>"
      ],
      "text/plain": [
       "             id_contrato                                     nombre_entidad  \\\n",
       "0     CO1.PCCNTR.2193149  UNIDAD DE GESTION PENSIONAL Y PARAFISCALES - UGPP   \n",
       "1     CO1.PCCNTR.5982280  UNIDAD DE GESTION PENSIONAL Y PARAFISCALES - UGPP   \n",
       "2      CO1.PCCNTR.280189  UNIDAD DE GESTION PENSIONAL Y PARAFISCALES - UGPP   \n",
       "3     CO1.PCCNTR.4376829  UNIDAD DE GESTION PENSIONAL Y PARAFISCALES - UGPP   \n",
       "4      CO1.PCCNTR.277084  UNIDAD DE GESTION PENSIONAL Y PARAFISCALES - UGPP   \n",
       "...                  ...                                                ...   \n",
       "2517  CO1.PCCNTR.2115837  UNIDAD DE GESTION PENSIONAL Y PARAFISCALES - UGPP   \n",
       "2518   CO1.PCCNTR.271971  UNIDAD DE GESTION PENSIONAL Y PARAFISCALES - UGPP   \n",
       "2519  CO1.PCCNTR.2168350  UNIDAD DE GESTION PENSIONAL Y PARAFISCALES - UGPP   \n",
       "2520  CO1.PCCNTR.4622885  UNIDAD DE GESTION PENSIONAL Y PARAFISCALES - UGPP   \n",
       "2521   CO1.PCCNTR.566321  UNIDAD DE GESTION PENSIONAL Y PARAFISCALES - UGPP   \n",
       "\n",
       "                    departamento modalidad_de_contratacion  \\\n",
       "0     Distrito Capital de Bogotá      Contratación directa   \n",
       "1     Distrito Capital de Bogotá      Contratación directa   \n",
       "2     Distrito Capital de Bogotá      Contratación directa   \n",
       "3     Distrito Capital de Bogotá      Contratación directa   \n",
       "4     Distrito Capital de Bogotá      Contratación directa   \n",
       "...                          ...                       ...   \n",
       "2517  Distrito Capital de Bogotá      Contratación directa   \n",
       "2518  Distrito Capital de Bogotá      Contratación directa   \n",
       "2519  Distrito Capital de Bogotá      Contratación directa   \n",
       "2520  Distrito Capital de Bogotá      Contratación directa   \n",
       "2521  Distrito Capital de Bogotá      Contratación directa   \n",
       "\n",
       "      valor_del_contrato fecha_de_firma  \n",
       "0             41523626.0     2021-02-01  \n",
       "1              8927010.0     2024-02-21  \n",
       "2              8400000.0     2018-01-11  \n",
       "3             23087052.0     2023-01-06  \n",
       "4             16480000.0     2018-01-09  \n",
       "...                  ...            ...  \n",
       "2517         335358912.0     2021-01-14  \n",
       "2518           9600000.0     2018-01-05  \n",
       "2519          41050116.0     2021-01-25  \n",
       "2520          31800000.0     2023-02-14  \n",
       "2521           3605000.0     2018-09-17  \n",
       "\n",
       "[2522 rows x 6 columns]"
      ]
     },
     "execution_count": 10,
     "metadata": {},
     "output_type": "execute_result"
    }
   ],
   "source": [
    "result_df"
   ]
  },
  {
   "cell_type": "code",
   "execution_count": 11,
   "metadata": {},
   "outputs": [
    {
     "name": "stdout",
     "output_type": "stream",
     "text": [
      "Index(['id_contrato', 'nombre_entidad', 'departamento',\n",
      "       'modalidad_de_contratacion', 'valor_del_contrato', 'fecha_de_firma'],\n",
      "      dtype='object')\n"
     ]
    }
   ],
   "source": [
    "print(result_df.columns)"
   ]
  }
 ],
 "metadata": {
  "kernelspec": {
   "display_name": "mi_tercer_ambiente_311",
   "language": "python",
   "name": "python3"
  },
  "language_info": {
   "codemirror_mode": {
    "name": "ipython",
    "version": 3
   },
   "file_extension": ".py",
   "mimetype": "text/x-python",
   "name": "python",
   "nbconvert_exporter": "python",
   "pygments_lexer": "ipython3",
   "version": "3.11.9"
  }
 },
 "nbformat": 4,
 "nbformat_minor": 2
}
